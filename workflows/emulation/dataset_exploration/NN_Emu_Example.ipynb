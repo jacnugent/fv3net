{
 "cells": [
  {
   "cell_type": "code",
   "execution_count": 1,
   "metadata": {},
   "outputs": [],
   "source": [
    "import sys\n",
    "# path to local fv3net emulation directory\n",
    "sys.path.append(\"/home/jmnugent/fv3net/workflows/emulation/\")\n"
   ]
  },
  {
   "cell_type": "code",
   "execution_count": 2,
   "metadata": {},
   "outputs": [],
   "source": [
    "import yaml\n",
    "import tempfile\n",
    "import pandas as pd\n",
    "import matplotlib.pyplot as plt\n",
    "# plotting functions\n",
    "import utils as ut"
   ]
  },
  {
   "cell_type": "code",
   "execution_count": 3,
   "metadata": {},
   "outputs": [
    {
     "name": "stderr",
     "output_type": "stream",
     "text": [
      "/home/jmnugent/miniconda3/envs/fv3net/lib/python3.7/site-packages/tensorflow_addons/utils/ensure_tf_install.py:68: UserWarning: Tensorflow Addons supports using Python ops for all Tensorflow versions above or equal to 2.2.0 and strictly below 2.4.0 (nightly versions are not supported). \n",
      " The versions of TensorFlow you are currently using is 2.4.0 and is not supported. \n",
      "Some things might work, some things might not.\n",
      "If you were to encounter a bug, do not file an issue.\n",
      "If you want to make sure you're using a tested and supported configuration, either change the TensorFlow version or the TensorFlow Addons's version. \n",
      "You can find the compatibility matrix in TensorFlow Addon's readme:\n",
      "https://github.com/tensorflow/addons\n",
      "  UserWarning,\n"
     ]
    }
   ],
   "source": [
    "# lots of functions for getting data , model, and training\n",
    "import train_emulator as te"
   ]
  },
  {
   "cell_type": "markdown",
   "metadata": {},
   "source": [
    "## Load data and explore\n",
    "\n",
    "### from original zarr (full dataset)"
   ]
  },
  {
   "cell_type": "code",
   "execution_count": 4,
   "metadata": {},
   "outputs": [],
   "source": [
    "from loaders.mappers import open_phys_emu_training\n",
    "from loaders.batches import batches_from_mapper"
   ]
  },
  {
   "cell_type": "code",
   "execution_count": 5,
   "metadata": {},
   "outputs": [],
   "source": [
    "# data stored on gcs\n",
    "data_url = \"gs://vcm-ml-scratch/andrep/all-physics-emu/training-simple-phys-12day-w-micro\"\n",
    "# there are forecast data initialized for first of each month in 2016\n",
    "init_times = [\n",
    "    \"20160801.000000\"\n",
    "]\n",
    "dataset_names = [\n",
    "    \"state_after_dynamics.zarr\",\n",
    "    \"physics_tendencies.zarr\",\n",
    "    \"physics_component_tendencies.zarr\"\n",
    "]\n",
    "vars_to_include = [\n",
    "    \"air_temperature\",\n",
    "    \"specific_humidity\",\n",
    "    \"tendency_of_specific_humidity_due_to_fv3_physics\",\n",
    "    \"tendency_of_specific_humidity_due_to_microphysics\",\n",
    "]"
   ]
  },
  {
   "cell_type": "code",
   "execution_count": 6,
   "metadata": {},
   "outputs": [],
   "source": [
    "mapper = open_phys_emu_training(data_url, init_times, consolidated=True, dataset_names=dataset_names)\n",
    "# these batches are functionally the same as from the netcdf files\n",
    "full_data_batches = batches_from_mapper(mapper, vars_to_include)"
   ]
  },
  {
   "cell_type": "code",
   "execution_count": 7,
   "metadata": {},
   "outputs": [
    {
     "data": {
      "text/html": [
       "<div><svg style=\"position: absolute; width: 0; height: 0; overflow: hidden\">\n",
       "<defs>\n",
       "<symbol id=\"icon-database\" viewBox=\"0 0 32 32\">\n",
       "<path d=\"M16 0c-8.837 0-16 2.239-16 5v4c0 2.761 7.163 5 16 5s16-2.239 16-5v-4c0-2.761-7.163-5-16-5z\"></path>\n",
       "<path d=\"M16 17c-8.837 0-16-2.239-16-5v6c0 2.761 7.163 5 16 5s16-2.239 16-5v-6c0 2.761-7.163 5-16 5z\"></path>\n",
       "<path d=\"M16 26c-8.837 0-16-2.239-16-5v6c0 2.761 7.163 5 16 5s16-2.239 16-5v-6c0 2.761-7.163 5-16 5z\"></path>\n",
       "</symbol>\n",
       "<symbol id=\"icon-file-text2\" viewBox=\"0 0 32 32\">\n",
       "<path d=\"M28.681 7.159c-0.694-0.947-1.662-2.053-2.724-3.116s-2.169-2.030-3.116-2.724c-1.612-1.182-2.393-1.319-2.841-1.319h-15.5c-1.378 0-2.5 1.121-2.5 2.5v27c0 1.378 1.122 2.5 2.5 2.5h23c1.378 0 2.5-1.122 2.5-2.5v-19.5c0-0.448-0.137-1.23-1.319-2.841zM24.543 5.457c0.959 0.959 1.712 1.825 2.268 2.543h-4.811v-4.811c0.718 0.556 1.584 1.309 2.543 2.268zM28 29.5c0 0.271-0.229 0.5-0.5 0.5h-23c-0.271 0-0.5-0.229-0.5-0.5v-27c0-0.271 0.229-0.5 0.5-0.5 0 0 15.499-0 15.5 0v7c0 0.552 0.448 1 1 1h7v19.5z\"></path>\n",
       "<path d=\"M23 26h-14c-0.552 0-1-0.448-1-1s0.448-1 1-1h14c0.552 0 1 0.448 1 1s-0.448 1-1 1z\"></path>\n",
       "<path d=\"M23 22h-14c-0.552 0-1-0.448-1-1s0.448-1 1-1h14c0.552 0 1 0.448 1 1s-0.448 1-1 1z\"></path>\n",
       "<path d=\"M23 18h-14c-0.552 0-1-0.448-1-1s0.448-1 1-1h14c0.552 0 1 0.448 1 1s-0.448 1-1 1z\"></path>\n",
       "</symbol>\n",
       "</defs>\n",
       "</svg>\n",
       "<style>/* CSS stylesheet for displaying xarray objects in jupyterlab.\n",
       " *\n",
       " */\n",
       "\n",
       ":root {\n",
       "  --xr-font-color0: var(--jp-content-font-color0, rgba(0, 0, 0, 1));\n",
       "  --xr-font-color2: var(--jp-content-font-color2, rgba(0, 0, 0, 0.54));\n",
       "  --xr-font-color3: var(--jp-content-font-color3, rgba(0, 0, 0, 0.38));\n",
       "  --xr-border-color: var(--jp-border-color2, #e0e0e0);\n",
       "  --xr-disabled-color: var(--jp-layout-color3, #bdbdbd);\n",
       "  --xr-background-color: var(--jp-layout-color0, white);\n",
       "  --xr-background-color-row-even: var(--jp-layout-color1, white);\n",
       "  --xr-background-color-row-odd: var(--jp-layout-color2, #eeeeee);\n",
       "}\n",
       "\n",
       "html[theme=dark],\n",
       "body.vscode-dark {\n",
       "  --xr-font-color0: rgba(255, 255, 255, 1);\n",
       "  --xr-font-color2: rgba(255, 255, 255, 0.54);\n",
       "  --xr-font-color3: rgba(255, 255, 255, 0.38);\n",
       "  --xr-border-color: #1F1F1F;\n",
       "  --xr-disabled-color: #515151;\n",
       "  --xr-background-color: #111111;\n",
       "  --xr-background-color-row-even: #111111;\n",
       "  --xr-background-color-row-odd: #313131;\n",
       "}\n",
       "\n",
       ".xr-wrap {\n",
       "  display: block;\n",
       "  min-width: 300px;\n",
       "  max-width: 700px;\n",
       "}\n",
       "\n",
       ".xr-text-repr-fallback {\n",
       "  /* fallback to plain text repr when CSS is not injected (untrusted notebook) */\n",
       "  display: none;\n",
       "}\n",
       "\n",
       ".xr-header {\n",
       "  padding-top: 6px;\n",
       "  padding-bottom: 6px;\n",
       "  margin-bottom: 4px;\n",
       "  border-bottom: solid 1px var(--xr-border-color);\n",
       "}\n",
       "\n",
       ".xr-header > div,\n",
       ".xr-header > ul {\n",
       "  display: inline;\n",
       "  margin-top: 0;\n",
       "  margin-bottom: 0;\n",
       "}\n",
       "\n",
       ".xr-obj-type,\n",
       ".xr-array-name {\n",
       "  margin-left: 2px;\n",
       "  margin-right: 10px;\n",
       "}\n",
       "\n",
       ".xr-obj-type {\n",
       "  color: var(--xr-font-color2);\n",
       "}\n",
       "\n",
       ".xr-sections {\n",
       "  padding-left: 0 !important;\n",
       "  display: grid;\n",
       "  grid-template-columns: 150px auto auto 1fr 20px 20px;\n",
       "}\n",
       "\n",
       ".xr-section-item {\n",
       "  display: contents;\n",
       "}\n",
       "\n",
       ".xr-section-item input {\n",
       "  display: none;\n",
       "}\n",
       "\n",
       ".xr-section-item input + label {\n",
       "  color: var(--xr-disabled-color);\n",
       "}\n",
       "\n",
       ".xr-section-item input:enabled + label {\n",
       "  cursor: pointer;\n",
       "  color: var(--xr-font-color2);\n",
       "}\n",
       "\n",
       ".xr-section-item input:enabled + label:hover {\n",
       "  color: var(--xr-font-color0);\n",
       "}\n",
       "\n",
       ".xr-section-summary {\n",
       "  grid-column: 1;\n",
       "  color: var(--xr-font-color2);\n",
       "  font-weight: 500;\n",
       "}\n",
       "\n",
       ".xr-section-summary > span {\n",
       "  display: inline-block;\n",
       "  padding-left: 0.5em;\n",
       "}\n",
       "\n",
       ".xr-section-summary-in:disabled + label {\n",
       "  color: var(--xr-font-color2);\n",
       "}\n",
       "\n",
       ".xr-section-summary-in + label:before {\n",
       "  display: inline-block;\n",
       "  content: '►';\n",
       "  font-size: 11px;\n",
       "  width: 15px;\n",
       "  text-align: center;\n",
       "}\n",
       "\n",
       ".xr-section-summary-in:disabled + label:before {\n",
       "  color: var(--xr-disabled-color);\n",
       "}\n",
       "\n",
       ".xr-section-summary-in:checked + label:before {\n",
       "  content: '▼';\n",
       "}\n",
       "\n",
       ".xr-section-summary-in:checked + label > span {\n",
       "  display: none;\n",
       "}\n",
       "\n",
       ".xr-section-summary,\n",
       ".xr-section-inline-details {\n",
       "  padding-top: 4px;\n",
       "  padding-bottom: 4px;\n",
       "}\n",
       "\n",
       ".xr-section-inline-details {\n",
       "  grid-column: 2 / -1;\n",
       "}\n",
       "\n",
       ".xr-section-details {\n",
       "  display: none;\n",
       "  grid-column: 1 / -1;\n",
       "  margin-bottom: 5px;\n",
       "}\n",
       "\n",
       ".xr-section-summary-in:checked ~ .xr-section-details {\n",
       "  display: contents;\n",
       "}\n",
       "\n",
       ".xr-array-wrap {\n",
       "  grid-column: 1 / -1;\n",
       "  display: grid;\n",
       "  grid-template-columns: 20px auto;\n",
       "}\n",
       "\n",
       ".xr-array-wrap > label {\n",
       "  grid-column: 1;\n",
       "  vertical-align: top;\n",
       "}\n",
       "\n",
       ".xr-preview {\n",
       "  color: var(--xr-font-color3);\n",
       "}\n",
       "\n",
       ".xr-array-preview,\n",
       ".xr-array-data {\n",
       "  padding: 0 5px !important;\n",
       "  grid-column: 2;\n",
       "}\n",
       "\n",
       ".xr-array-data,\n",
       ".xr-array-in:checked ~ .xr-array-preview {\n",
       "  display: none;\n",
       "}\n",
       "\n",
       ".xr-array-in:checked ~ .xr-array-data,\n",
       ".xr-array-preview {\n",
       "  display: inline-block;\n",
       "}\n",
       "\n",
       ".xr-dim-list {\n",
       "  display: inline-block !important;\n",
       "  list-style: none;\n",
       "  padding: 0 !important;\n",
       "  margin: 0;\n",
       "}\n",
       "\n",
       ".xr-dim-list li {\n",
       "  display: inline-block;\n",
       "  padding: 0;\n",
       "  margin: 0;\n",
       "}\n",
       "\n",
       ".xr-dim-list:before {\n",
       "  content: '(';\n",
       "}\n",
       "\n",
       ".xr-dim-list:after {\n",
       "  content: ')';\n",
       "}\n",
       "\n",
       ".xr-dim-list li:not(:last-child):after {\n",
       "  content: ',';\n",
       "  padding-right: 5px;\n",
       "}\n",
       "\n",
       ".xr-has-index {\n",
       "  font-weight: bold;\n",
       "}\n",
       "\n",
       ".xr-var-list,\n",
       ".xr-var-item {\n",
       "  display: contents;\n",
       "}\n",
       "\n",
       ".xr-var-item > div,\n",
       ".xr-var-item label,\n",
       ".xr-var-item > .xr-var-name span {\n",
       "  background-color: var(--xr-background-color-row-even);\n",
       "  margin-bottom: 0;\n",
       "}\n",
       "\n",
       ".xr-var-item > .xr-var-name:hover span {\n",
       "  padding-right: 5px;\n",
       "}\n",
       "\n",
       ".xr-var-list > li:nth-child(odd) > div,\n",
       ".xr-var-list > li:nth-child(odd) > label,\n",
       ".xr-var-list > li:nth-child(odd) > .xr-var-name span {\n",
       "  background-color: var(--xr-background-color-row-odd);\n",
       "}\n",
       "\n",
       ".xr-var-name {\n",
       "  grid-column: 1;\n",
       "}\n",
       "\n",
       ".xr-var-dims {\n",
       "  grid-column: 2;\n",
       "}\n",
       "\n",
       ".xr-var-dtype {\n",
       "  grid-column: 3;\n",
       "  text-align: right;\n",
       "  color: var(--xr-font-color2);\n",
       "}\n",
       "\n",
       ".xr-var-preview {\n",
       "  grid-column: 4;\n",
       "}\n",
       "\n",
       ".xr-var-name,\n",
       ".xr-var-dims,\n",
       ".xr-var-dtype,\n",
       ".xr-preview,\n",
       ".xr-attrs dt {\n",
       "  white-space: nowrap;\n",
       "  overflow: hidden;\n",
       "  text-overflow: ellipsis;\n",
       "  padding-right: 10px;\n",
       "}\n",
       "\n",
       ".xr-var-name:hover,\n",
       ".xr-var-dims:hover,\n",
       ".xr-var-dtype:hover,\n",
       ".xr-attrs dt:hover {\n",
       "  overflow: visible;\n",
       "  width: auto;\n",
       "  z-index: 1;\n",
       "}\n",
       "\n",
       ".xr-var-attrs,\n",
       ".xr-var-data {\n",
       "  display: none;\n",
       "  background-color: var(--xr-background-color) !important;\n",
       "  padding-bottom: 5px !important;\n",
       "}\n",
       "\n",
       ".xr-var-attrs-in:checked ~ .xr-var-attrs,\n",
       ".xr-var-data-in:checked ~ .xr-var-data {\n",
       "  display: block;\n",
       "}\n",
       "\n",
       ".xr-var-data > table {\n",
       "  float: right;\n",
       "}\n",
       "\n",
       ".xr-var-name span,\n",
       ".xr-var-data,\n",
       ".xr-attrs {\n",
       "  padding-left: 25px !important;\n",
       "}\n",
       "\n",
       ".xr-attrs,\n",
       ".xr-var-attrs,\n",
       ".xr-var-data {\n",
       "  grid-column: 1 / -1;\n",
       "}\n",
       "\n",
       "dl.xr-attrs {\n",
       "  padding: 0;\n",
       "  margin: 0;\n",
       "  display: grid;\n",
       "  grid-template-columns: 125px auto;\n",
       "}\n",
       "\n",
       ".xr-attrs dt, dd {\n",
       "  padding: 0;\n",
       "  margin: 0;\n",
       "  float: left;\n",
       "  padding-right: 10px;\n",
       "  width: auto;\n",
       "}\n",
       "\n",
       ".xr-attrs dt {\n",
       "  font-weight: normal;\n",
       "  grid-column: 1;\n",
       "}\n",
       "\n",
       ".xr-attrs dt:hover span {\n",
       "  display: inline-block;\n",
       "  background: var(--xr-background-color);\n",
       "  padding-right: 10px;\n",
       "}\n",
       "\n",
       ".xr-attrs dd {\n",
       "  grid-column: 2;\n",
       "  white-space: pre-wrap;\n",
       "  word-break: break-all;\n",
       "}\n",
       "\n",
       ".xr-icon-database,\n",
       ".xr-icon-file-text2 {\n",
       "  display: inline-block;\n",
       "  vertical-align: middle;\n",
       "  width: 1em;\n",
       "  height: 1.5em !important;\n",
       "  stroke-width: 0;\n",
       "  stroke: currentColor;\n",
       "  fill: currentColor;\n",
       "}\n",
       "</style><pre class='xr-text-repr-fallback'>&lt;xarray.DataArray &#x27;time&#x27; (sample: 13824)&gt;\n",
       "array([cftime.DatetimeJulian(2016, 8, 8, 12, 0, 0, 0),\n",
       "       cftime.DatetimeJulian(2016, 8, 8, 12, 0, 0, 0),\n",
       "       cftime.DatetimeJulian(2016, 8, 8, 12, 0, 0, 0), ...,\n",
       "       cftime.DatetimeJulian(2016, 8, 8, 12, 0, 0, 0),\n",
       "       cftime.DatetimeJulian(2016, 8, 8, 12, 0, 0, 0),\n",
       "       cftime.DatetimeJulian(2016, 8, 8, 12, 0, 0, 0)], dtype=object)\n",
       "Coordinates:\n",
       "  * sample   (sample) MultiIndex\n",
       "  - tile     (sample) int64 3 2 0 0 4 1 0 4 2 1 4 2 ... 2 5 4 0 5 5 3 1 1 2 3 4\n",
       "  - time     (sample) object 2016-08-08 12:00:00 ... 2016-08-08 12:00:00\n",
       "  - x        (sample) float64 18.0 29.0 5.0 44.0 4.0 ... 27.0 28.0 30.0 7.0 20.0\n",
       "  - y        (sample) float64 10.0 28.0 10.0 32.0 10.0 ... 23.0 22.0 22.0 21.0</pre><div class='xr-wrap' hidden><div class='xr-header'><div class='xr-obj-type'>xarray.DataArray</div><div class='xr-array-name'>'time'</div><ul class='xr-dim-list'><li><span class='xr-has-index'>sample</span>: 13824</li></ul></div><ul class='xr-sections'><li class='xr-section-item'><div class='xr-array-wrap'><input id='section-0dbc1ed0-2300-4ac0-8a84-e0e16a37872b' class='xr-array-in' type='checkbox' checked><label for='section-0dbc1ed0-2300-4ac0-8a84-e0e16a37872b' title='Show/hide data repr'><svg class='icon xr-icon-database'><use xlink:href='#icon-database'></use></svg></label><div class='xr-array-preview xr-preview'><span>2016-08-08 12:00:00 2016-08-08 12:00:00 ... 2016-08-08 12:00:00</span></div><div class='xr-array-data'><pre>array([cftime.DatetimeJulian(2016, 8, 8, 12, 0, 0, 0),\n",
       "       cftime.DatetimeJulian(2016, 8, 8, 12, 0, 0, 0),\n",
       "       cftime.DatetimeJulian(2016, 8, 8, 12, 0, 0, 0), ...,\n",
       "       cftime.DatetimeJulian(2016, 8, 8, 12, 0, 0, 0),\n",
       "       cftime.DatetimeJulian(2016, 8, 8, 12, 0, 0, 0),\n",
       "       cftime.DatetimeJulian(2016, 8, 8, 12, 0, 0, 0)], dtype=object)</pre></div></div></li><li class='xr-section-item'><input id='section-a8341228-364a-4f69-9e84-9f2baffdf626' class='xr-section-summary-in' type='checkbox'  checked><label for='section-a8341228-364a-4f69-9e84-9f2baffdf626' class='xr-section-summary' >Coordinates: <span>(1)</span></label><div class='xr-section-inline-details'></div><div class='xr-section-details'><ul class='xr-var-list'><li class='xr-var-item'><div class='xr-var-name'><span class='xr-has-index'>sample</span></div><div class='xr-var-dims'>(sample)</div><div class='xr-var-dtype'>MultiIndex</div><div class='xr-var-preview xr-preview'>(tile, time, x, y)</div><input id='attrs-2ac7396d-b240-456c-8c2f-dff9337ac60b' class='xr-var-attrs-in' type='checkbox' disabled><label for='attrs-2ac7396d-b240-456c-8c2f-dff9337ac60b' title='Show/Hide attributes'><svg class='icon xr-icon-file-text2'><use xlink:href='#icon-file-text2'></use></svg></label><input id='data-04cfe7fc-850e-4f0b-b8dd-3e7c5b0f64da' class='xr-var-data-in' type='checkbox'><label for='data-04cfe7fc-850e-4f0b-b8dd-3e7c5b0f64da' title='Show/Hide data repr'><svg class='icon xr-icon-database'><use xlink:href='#icon-database'></use></svg></label><div class='xr-var-attrs'><dl class='xr-attrs'></dl></div><div class='xr-var-data'><pre>array([(3, cftime.DatetimeJulian(2016, 8, 8, 12, 0, 0, 0), 18.0, 10.0),\n",
       "       (2, cftime.DatetimeJulian(2016, 8, 8, 12, 0, 0, 0), 29.0, 28.0),\n",
       "       (0, cftime.DatetimeJulian(2016, 8, 8, 12, 0, 0, 0), 5.0, 10.0), ...,\n",
       "       (2, cftime.DatetimeJulian(2016, 8, 8, 12, 0, 0, 0), 30.0, 22.0),\n",
       "       (3, cftime.DatetimeJulian(2016, 8, 8, 12, 0, 0, 0), 7.0, 22.0),\n",
       "       (4, cftime.DatetimeJulian(2016, 8, 8, 12, 0, 0, 0), 20.0, 21.0)],\n",
       "      dtype=object)</pre></div></li><li class='xr-var-item'><div class='xr-var-name'><span>tile</span></div><div class='xr-var-dims'>(sample)</div><div class='xr-var-dtype'>int64</div><div class='xr-var-preview xr-preview'>3 2 0 0 4 1 0 4 ... 5 5 3 1 1 2 3 4</div><input id='attrs-9ea003f8-079a-490c-af57-a7ed2ea71e6f' class='xr-var-attrs-in' type='checkbox' disabled><label for='attrs-9ea003f8-079a-490c-af57-a7ed2ea71e6f' title='Show/Hide attributes'><svg class='icon xr-icon-file-text2'><use xlink:href='#icon-file-text2'></use></svg></label><input id='data-704747ac-5967-4e55-80cf-80792c18b9e4' class='xr-var-data-in' type='checkbox'><label for='data-704747ac-5967-4e55-80cf-80792c18b9e4' title='Show/Hide data repr'><svg class='icon xr-icon-database'><use xlink:href='#icon-database'></use></svg></label><div class='xr-var-attrs'><dl class='xr-attrs'></dl></div><div class='xr-var-data'><pre>array([3, 2, 0, ..., 2, 3, 4])</pre></div></li><li class='xr-var-item'><div class='xr-var-name'><span>time</span></div><div class='xr-var-dims'>(sample)</div><div class='xr-var-dtype'>object</div><div class='xr-var-preview xr-preview'>2016-08-08 12:00:00 ... 2016-08-...</div><input id='attrs-a5effcb1-27a0-4a07-9fd2-e8ef6b8d65de' class='xr-var-attrs-in' type='checkbox' disabled><label for='attrs-a5effcb1-27a0-4a07-9fd2-e8ef6b8d65de' title='Show/Hide attributes'><svg class='icon xr-icon-file-text2'><use xlink:href='#icon-file-text2'></use></svg></label><input id='data-155c4c97-9427-4e5b-91a1-63113532d59d' class='xr-var-data-in' type='checkbox'><label for='data-155c4c97-9427-4e5b-91a1-63113532d59d' title='Show/Hide data repr'><svg class='icon xr-icon-database'><use xlink:href='#icon-database'></use></svg></label><div class='xr-var-attrs'><dl class='xr-attrs'></dl></div><div class='xr-var-data'><pre>array([cftime.DatetimeJulian(2016, 8, 8, 12, 0, 0, 0),\n",
       "       cftime.DatetimeJulian(2016, 8, 8, 12, 0, 0, 0),\n",
       "       cftime.DatetimeJulian(2016, 8, 8, 12, 0, 0, 0), ...,\n",
       "       cftime.DatetimeJulian(2016, 8, 8, 12, 0, 0, 0),\n",
       "       cftime.DatetimeJulian(2016, 8, 8, 12, 0, 0, 0),\n",
       "       cftime.DatetimeJulian(2016, 8, 8, 12, 0, 0, 0)], dtype=object)</pre></div></li><li class='xr-var-item'><div class='xr-var-name'><span>x</span></div><div class='xr-var-dims'>(sample)</div><div class='xr-var-dtype'>float64</div><div class='xr-var-preview xr-preview'>18.0 29.0 5.0 ... 30.0 7.0 20.0</div><input id='attrs-8fd4bd4e-0ed4-48b8-8898-0590b26ac7b1' class='xr-var-attrs-in' type='checkbox' disabled><label for='attrs-8fd4bd4e-0ed4-48b8-8898-0590b26ac7b1' title='Show/Hide attributes'><svg class='icon xr-icon-file-text2'><use xlink:href='#icon-file-text2'></use></svg></label><input id='data-f1c30603-86d0-4bb2-b888-4f9df4151446' class='xr-var-data-in' type='checkbox'><label for='data-f1c30603-86d0-4bb2-b888-4f9df4151446' title='Show/Hide data repr'><svg class='icon xr-icon-database'><use xlink:href='#icon-database'></use></svg></label><div class='xr-var-attrs'><dl class='xr-attrs'></dl></div><div class='xr-var-data'><pre>array([18., 29.,  5., ..., 30.,  7., 20.])</pre></div></li><li class='xr-var-item'><div class='xr-var-name'><span>y</span></div><div class='xr-var-dims'>(sample)</div><div class='xr-var-dtype'>float64</div><div class='xr-var-preview xr-preview'>10.0 28.0 10.0 ... 22.0 22.0 21.0</div><input id='attrs-08976d7a-cacc-4ffb-b409-c05fe098f0da' class='xr-var-attrs-in' type='checkbox' disabled><label for='attrs-08976d7a-cacc-4ffb-b409-c05fe098f0da' title='Show/Hide attributes'><svg class='icon xr-icon-file-text2'><use xlink:href='#icon-file-text2'></use></svg></label><input id='data-5e6e8f5b-c4fe-4a79-aa0a-a7309aacc600' class='xr-var-data-in' type='checkbox'><label for='data-5e6e8f5b-c4fe-4a79-aa0a-a7309aacc600' title='Show/Hide data repr'><svg class='icon xr-icon-database'><use xlink:href='#icon-database'></use></svg></label><div class='xr-var-attrs'><dl class='xr-attrs'></dl></div><div class='xr-var-data'><pre>array([10., 28., 10., ..., 22., 22., 21.])</pre></div></li></ul></div></li><li class='xr-section-item'><input id='section-80272ad7-b085-4255-85ca-a9725cb129eb' class='xr-section-summary-in' type='checkbox' disabled ><label for='section-80272ad7-b085-4255-85ca-a9725cb129eb' class='xr-section-summary'  title='Expand/collapse section'>Attributes: <span>(0)</span></label><div class='xr-section-inline-details'></div><div class='xr-section-details'><dl class='xr-attrs'></dl></div></li></ul></div></div>"
      ],
      "text/plain": [
       "<xarray.DataArray 'time' (sample: 13824)>\n",
       "array([cftime.DatetimeJulian(2016, 8, 8, 12, 0, 0, 0),\n",
       "       cftime.DatetimeJulian(2016, 8, 8, 12, 0, 0, 0),\n",
       "       cftime.DatetimeJulian(2016, 8, 8, 12, 0, 0, 0), ...,\n",
       "       cftime.DatetimeJulian(2016, 8, 8, 12, 0, 0, 0),\n",
       "       cftime.DatetimeJulian(2016, 8, 8, 12, 0, 0, 0),\n",
       "       cftime.DatetimeJulian(2016, 8, 8, 12, 0, 0, 0)], dtype=object)\n",
       "Coordinates:\n",
       "  * sample   (sample) MultiIndex\n",
       "  - tile     (sample) int64 3 2 0 0 4 1 0 4 2 1 4 2 ... 2 5 4 0 5 5 3 1 1 2 3 4\n",
       "  - time     (sample) object 2016-08-08 12:00:00 ... 2016-08-08 12:00:00\n",
       "  - x        (sample) float64 18.0 29.0 5.0 44.0 4.0 ... 27.0 28.0 30.0 7.0 20.0\n",
       "  - y        (sample) float64 10.0 28.0 10.0 32.0 10.0 ... 23.0 22.0 22.0 21.0"
      ]
     },
     "execution_count": 7,
     "metadata": {},
     "output_type": "execute_result"
    }
   ],
   "source": [
    "full_data_batches[0].time"
   ]
  },
  {
   "cell_type": "code",
   "execution_count": 8,
   "metadata": {},
   "outputs": [
    {
     "data": {
      "text/plain": [
       "['20160801.050000',\n",
       " '20160801.100000',\n",
       " '20160801.150000',\n",
       " '20160801.200000',\n",
       " '20160802.010000']"
      ]
     },
     "execution_count": 8,
     "metadata": {},
     "output_type": "execute_result"
    }
   ],
   "source": [
    "#mapper act like a dict with timestep keys\n",
    "list(mapper.keys())[:5]"
   ]
  },
  {
   "cell_type": "code",
   "execution_count": 9,
   "metadata": {},
   "outputs": [
    {
     "data": {
      "text/html": [
       "<div><svg style=\"position: absolute; width: 0; height: 0; overflow: hidden\">\n",
       "<defs>\n",
       "<symbol id=\"icon-database\" viewBox=\"0 0 32 32\">\n",
       "<path d=\"M16 0c-8.837 0-16 2.239-16 5v4c0 2.761 7.163 5 16 5s16-2.239 16-5v-4c0-2.761-7.163-5-16-5z\"></path>\n",
       "<path d=\"M16 17c-8.837 0-16-2.239-16-5v6c0 2.761 7.163 5 16 5s16-2.239 16-5v-6c0 2.761-7.163 5-16 5z\"></path>\n",
       "<path d=\"M16 26c-8.837 0-16-2.239-16-5v6c0 2.761 7.163 5 16 5s16-2.239 16-5v-6c0 2.761-7.163 5-16 5z\"></path>\n",
       "</symbol>\n",
       "<symbol id=\"icon-file-text2\" viewBox=\"0 0 32 32\">\n",
       "<path d=\"M28.681 7.159c-0.694-0.947-1.662-2.053-2.724-3.116s-2.169-2.030-3.116-2.724c-1.612-1.182-2.393-1.319-2.841-1.319h-15.5c-1.378 0-2.5 1.121-2.5 2.5v27c0 1.378 1.122 2.5 2.5 2.5h23c1.378 0 2.5-1.122 2.5-2.5v-19.5c0-0.448-0.137-1.23-1.319-2.841zM24.543 5.457c0.959 0.959 1.712 1.825 2.268 2.543h-4.811v-4.811c0.718 0.556 1.584 1.309 2.543 2.268zM28 29.5c0 0.271-0.229 0.5-0.5 0.5h-23c-0.271 0-0.5-0.229-0.5-0.5v-27c0-0.271 0.229-0.5 0.5-0.5 0 0 15.499-0 15.5 0v7c0 0.552 0.448 1 1 1h7v19.5z\"></path>\n",
       "<path d=\"M23 26h-14c-0.552 0-1-0.448-1-1s0.448-1 1-1h14c0.552 0 1 0.448 1 1s-0.448 1-1 1z\"></path>\n",
       "<path d=\"M23 22h-14c-0.552 0-1-0.448-1-1s0.448-1 1-1h14c0.552 0 1 0.448 1 1s-0.448 1-1 1z\"></path>\n",
       "<path d=\"M23 18h-14c-0.552 0-1-0.448-1-1s0.448-1 1-1h14c0.552 0 1 0.448 1 1s-0.448 1-1 1z\"></path>\n",
       "</symbol>\n",
       "</defs>\n",
       "</svg>\n",
       "<style>/* CSS stylesheet for displaying xarray objects in jupyterlab.\n",
       " *\n",
       " */\n",
       "\n",
       ":root {\n",
       "  --xr-font-color0: var(--jp-content-font-color0, rgba(0, 0, 0, 1));\n",
       "  --xr-font-color2: var(--jp-content-font-color2, rgba(0, 0, 0, 0.54));\n",
       "  --xr-font-color3: var(--jp-content-font-color3, rgba(0, 0, 0, 0.38));\n",
       "  --xr-border-color: var(--jp-border-color2, #e0e0e0);\n",
       "  --xr-disabled-color: var(--jp-layout-color3, #bdbdbd);\n",
       "  --xr-background-color: var(--jp-layout-color0, white);\n",
       "  --xr-background-color-row-even: var(--jp-layout-color1, white);\n",
       "  --xr-background-color-row-odd: var(--jp-layout-color2, #eeeeee);\n",
       "}\n",
       "\n",
       "html[theme=dark],\n",
       "body.vscode-dark {\n",
       "  --xr-font-color0: rgba(255, 255, 255, 1);\n",
       "  --xr-font-color2: rgba(255, 255, 255, 0.54);\n",
       "  --xr-font-color3: rgba(255, 255, 255, 0.38);\n",
       "  --xr-border-color: #1F1F1F;\n",
       "  --xr-disabled-color: #515151;\n",
       "  --xr-background-color: #111111;\n",
       "  --xr-background-color-row-even: #111111;\n",
       "  --xr-background-color-row-odd: #313131;\n",
       "}\n",
       "\n",
       ".xr-wrap {\n",
       "  display: block;\n",
       "  min-width: 300px;\n",
       "  max-width: 700px;\n",
       "}\n",
       "\n",
       ".xr-text-repr-fallback {\n",
       "  /* fallback to plain text repr when CSS is not injected (untrusted notebook) */\n",
       "  display: none;\n",
       "}\n",
       "\n",
       ".xr-header {\n",
       "  padding-top: 6px;\n",
       "  padding-bottom: 6px;\n",
       "  margin-bottom: 4px;\n",
       "  border-bottom: solid 1px var(--xr-border-color);\n",
       "}\n",
       "\n",
       ".xr-header > div,\n",
       ".xr-header > ul {\n",
       "  display: inline;\n",
       "  margin-top: 0;\n",
       "  margin-bottom: 0;\n",
       "}\n",
       "\n",
       ".xr-obj-type,\n",
       ".xr-array-name {\n",
       "  margin-left: 2px;\n",
       "  margin-right: 10px;\n",
       "}\n",
       "\n",
       ".xr-obj-type {\n",
       "  color: var(--xr-font-color2);\n",
       "}\n",
       "\n",
       ".xr-sections {\n",
       "  padding-left: 0 !important;\n",
       "  display: grid;\n",
       "  grid-template-columns: 150px auto auto 1fr 20px 20px;\n",
       "}\n",
       "\n",
       ".xr-section-item {\n",
       "  display: contents;\n",
       "}\n",
       "\n",
       ".xr-section-item input {\n",
       "  display: none;\n",
       "}\n",
       "\n",
       ".xr-section-item input + label {\n",
       "  color: var(--xr-disabled-color);\n",
       "}\n",
       "\n",
       ".xr-section-item input:enabled + label {\n",
       "  cursor: pointer;\n",
       "  color: var(--xr-font-color2);\n",
       "}\n",
       "\n",
       ".xr-section-item input:enabled + label:hover {\n",
       "  color: var(--xr-font-color0);\n",
       "}\n",
       "\n",
       ".xr-section-summary {\n",
       "  grid-column: 1;\n",
       "  color: var(--xr-font-color2);\n",
       "  font-weight: 500;\n",
       "}\n",
       "\n",
       ".xr-section-summary > span {\n",
       "  display: inline-block;\n",
       "  padding-left: 0.5em;\n",
       "}\n",
       "\n",
       ".xr-section-summary-in:disabled + label {\n",
       "  color: var(--xr-font-color2);\n",
       "}\n",
       "\n",
       ".xr-section-summary-in + label:before {\n",
       "  display: inline-block;\n",
       "  content: '►';\n",
       "  font-size: 11px;\n",
       "  width: 15px;\n",
       "  text-align: center;\n",
       "}\n",
       "\n",
       ".xr-section-summary-in:disabled + label:before {\n",
       "  color: var(--xr-disabled-color);\n",
       "}\n",
       "\n",
       ".xr-section-summary-in:checked + label:before {\n",
       "  content: '▼';\n",
       "}\n",
       "\n",
       ".xr-section-summary-in:checked + label > span {\n",
       "  display: none;\n",
       "}\n",
       "\n",
       ".xr-section-summary,\n",
       ".xr-section-inline-details {\n",
       "  padding-top: 4px;\n",
       "  padding-bottom: 4px;\n",
       "}\n",
       "\n",
       ".xr-section-inline-details {\n",
       "  grid-column: 2 / -1;\n",
       "}\n",
       "\n",
       ".xr-section-details {\n",
       "  display: none;\n",
       "  grid-column: 1 / -1;\n",
       "  margin-bottom: 5px;\n",
       "}\n",
       "\n",
       ".xr-section-summary-in:checked ~ .xr-section-details {\n",
       "  display: contents;\n",
       "}\n",
       "\n",
       ".xr-array-wrap {\n",
       "  grid-column: 1 / -1;\n",
       "  display: grid;\n",
       "  grid-template-columns: 20px auto;\n",
       "}\n",
       "\n",
       ".xr-array-wrap > label {\n",
       "  grid-column: 1;\n",
       "  vertical-align: top;\n",
       "}\n",
       "\n",
       ".xr-preview {\n",
       "  color: var(--xr-font-color3);\n",
       "}\n",
       "\n",
       ".xr-array-preview,\n",
       ".xr-array-data {\n",
       "  padding: 0 5px !important;\n",
       "  grid-column: 2;\n",
       "}\n",
       "\n",
       ".xr-array-data,\n",
       ".xr-array-in:checked ~ .xr-array-preview {\n",
       "  display: none;\n",
       "}\n",
       "\n",
       ".xr-array-in:checked ~ .xr-array-data,\n",
       ".xr-array-preview {\n",
       "  display: inline-block;\n",
       "}\n",
       "\n",
       ".xr-dim-list {\n",
       "  display: inline-block !important;\n",
       "  list-style: none;\n",
       "  padding: 0 !important;\n",
       "  margin: 0;\n",
       "}\n",
       "\n",
       ".xr-dim-list li {\n",
       "  display: inline-block;\n",
       "  padding: 0;\n",
       "  margin: 0;\n",
       "}\n",
       "\n",
       ".xr-dim-list:before {\n",
       "  content: '(';\n",
       "}\n",
       "\n",
       ".xr-dim-list:after {\n",
       "  content: ')';\n",
       "}\n",
       "\n",
       ".xr-dim-list li:not(:last-child):after {\n",
       "  content: ',';\n",
       "  padding-right: 5px;\n",
       "}\n",
       "\n",
       ".xr-has-index {\n",
       "  font-weight: bold;\n",
       "}\n",
       "\n",
       ".xr-var-list,\n",
       ".xr-var-item {\n",
       "  display: contents;\n",
       "}\n",
       "\n",
       ".xr-var-item > div,\n",
       ".xr-var-item label,\n",
       ".xr-var-item > .xr-var-name span {\n",
       "  background-color: var(--xr-background-color-row-even);\n",
       "  margin-bottom: 0;\n",
       "}\n",
       "\n",
       ".xr-var-item > .xr-var-name:hover span {\n",
       "  padding-right: 5px;\n",
       "}\n",
       "\n",
       ".xr-var-list > li:nth-child(odd) > div,\n",
       ".xr-var-list > li:nth-child(odd) > label,\n",
       ".xr-var-list > li:nth-child(odd) > .xr-var-name span {\n",
       "  background-color: var(--xr-background-color-row-odd);\n",
       "}\n",
       "\n",
       ".xr-var-name {\n",
       "  grid-column: 1;\n",
       "}\n",
       "\n",
       ".xr-var-dims {\n",
       "  grid-column: 2;\n",
       "}\n",
       "\n",
       ".xr-var-dtype {\n",
       "  grid-column: 3;\n",
       "  text-align: right;\n",
       "  color: var(--xr-font-color2);\n",
       "}\n",
       "\n",
       ".xr-var-preview {\n",
       "  grid-column: 4;\n",
       "}\n",
       "\n",
       ".xr-var-name,\n",
       ".xr-var-dims,\n",
       ".xr-var-dtype,\n",
       ".xr-preview,\n",
       ".xr-attrs dt {\n",
       "  white-space: nowrap;\n",
       "  overflow: hidden;\n",
       "  text-overflow: ellipsis;\n",
       "  padding-right: 10px;\n",
       "}\n",
       "\n",
       ".xr-var-name:hover,\n",
       ".xr-var-dims:hover,\n",
       ".xr-var-dtype:hover,\n",
       ".xr-attrs dt:hover {\n",
       "  overflow: visible;\n",
       "  width: auto;\n",
       "  z-index: 1;\n",
       "}\n",
       "\n",
       ".xr-var-attrs,\n",
       ".xr-var-data {\n",
       "  display: none;\n",
       "  background-color: var(--xr-background-color) !important;\n",
       "  padding-bottom: 5px !important;\n",
       "}\n",
       "\n",
       ".xr-var-attrs-in:checked ~ .xr-var-attrs,\n",
       ".xr-var-data-in:checked ~ .xr-var-data {\n",
       "  display: block;\n",
       "}\n",
       "\n",
       ".xr-var-data > table {\n",
       "  float: right;\n",
       "}\n",
       "\n",
       ".xr-var-name span,\n",
       ".xr-var-data,\n",
       ".xr-attrs {\n",
       "  padding-left: 25px !important;\n",
       "}\n",
       "\n",
       ".xr-attrs,\n",
       ".xr-var-attrs,\n",
       ".xr-var-data {\n",
       "  grid-column: 1 / -1;\n",
       "}\n",
       "\n",
       "dl.xr-attrs {\n",
       "  padding: 0;\n",
       "  margin: 0;\n",
       "  display: grid;\n",
       "  grid-template-columns: 125px auto;\n",
       "}\n",
       "\n",
       ".xr-attrs dt, dd {\n",
       "  padding: 0;\n",
       "  margin: 0;\n",
       "  float: left;\n",
       "  padding-right: 10px;\n",
       "  width: auto;\n",
       "}\n",
       "\n",
       ".xr-attrs dt {\n",
       "  font-weight: normal;\n",
       "  grid-column: 1;\n",
       "}\n",
       "\n",
       ".xr-attrs dt:hover span {\n",
       "  display: inline-block;\n",
       "  background: var(--xr-background-color);\n",
       "  padding-right: 10px;\n",
       "}\n",
       "\n",
       ".xr-attrs dd {\n",
       "  grid-column: 2;\n",
       "  white-space: pre-wrap;\n",
       "  word-break: break-all;\n",
       "}\n",
       "\n",
       ".xr-icon-database,\n",
       ".xr-icon-file-text2 {\n",
       "  display: inline-block;\n",
       "  vertical-align: middle;\n",
       "  width: 1em;\n",
       "  height: 1.5em !important;\n",
       "  stroke-width: 0;\n",
       "  stroke: currentColor;\n",
       "  fill: currentColor;\n",
       "}\n",
       "</style><pre class='xr-text-repr-fallback'>&lt;xarray.Dataset&gt;\n",
       "Dimensions:                                            (sample: 13824, z: 79)\n",
       "Coordinates:\n",
       "  * sample                                             (sample) MultiIndex\n",
       "  - tile                                               (sample) int64 5 2 ... 2\n",
       "  - time                                               (sample) object 2016-0...\n",
       "  - x                                                  (sample) float64 14.0 ...\n",
       "  - y                                                  (sample) float64 13.0 ...\n",
       "Dimensions without coordinates: z\n",
       "Data variables:\n",
       "    air_temperature                                    (sample, z) float64 23...\n",
       "    specific_humidity                                  (sample, z) float64 4....\n",
       "    tendency_of_specific_humidity_due_to_fv3_physics   (sample, z) float64 1....\n",
       "    tendency_of_specific_humidity_due_to_microphysics  (sample, z) float64 0....</pre><div class='xr-wrap' hidden><div class='xr-header'><div class='xr-obj-type'>xarray.Dataset</div></div><ul class='xr-sections'><li class='xr-section-item'><input id='section-3484db04-9b1a-4115-9fbd-dcf52da83c8c' class='xr-section-summary-in' type='checkbox' disabled ><label for='section-3484db04-9b1a-4115-9fbd-dcf52da83c8c' class='xr-section-summary'  title='Expand/collapse section'>Dimensions:</label><div class='xr-section-inline-details'><ul class='xr-dim-list'><li><span class='xr-has-index'>sample</span>: 13824</li><li><span>z</span>: 79</li></ul></div><div class='xr-section-details'></div></li><li class='xr-section-item'><input id='section-a9ff3b3f-5629-4503-b165-8a0102aa3e24' class='xr-section-summary-in' type='checkbox'  checked><label for='section-a9ff3b3f-5629-4503-b165-8a0102aa3e24' class='xr-section-summary' >Coordinates: <span>(1)</span></label><div class='xr-section-inline-details'></div><div class='xr-section-details'><ul class='xr-var-list'><li class='xr-var-item'><div class='xr-var-name'><span class='xr-has-index'>sample</span></div><div class='xr-var-dims'>(sample)</div><div class='xr-var-dtype'>MultiIndex</div><div class='xr-var-preview xr-preview'>(tile, time, x, y)</div><input id='attrs-72cef9ba-d7ac-420e-80b1-26ddac872bd6' class='xr-var-attrs-in' type='checkbox' disabled><label for='attrs-72cef9ba-d7ac-420e-80b1-26ddac872bd6' title='Show/Hide attributes'><svg class='icon xr-icon-file-text2'><use xlink:href='#icon-file-text2'></use></svg></label><input id='data-83770291-54c3-40c4-839f-7a017fe46345' class='xr-var-data-in' type='checkbox'><label for='data-83770291-54c3-40c4-839f-7a017fe46345' title='Show/Hide data repr'><svg class='icon xr-icon-database'><use xlink:href='#icon-database'></use></svg></label><div class='xr-var-attrs'><dl class='xr-attrs'></dl></div><div class='xr-var-data'><pre>array([(5, cftime.DatetimeJulian(2016, 8, 8, 12, 0, 0, 0), 14.0, 13.0),\n",
       "       (2, cftime.DatetimeJulian(2016, 8, 8, 12, 0, 0, 0), 28.0, 13.0),\n",
       "       (4, cftime.DatetimeJulian(2016, 8, 8, 12, 0, 0, 0), 38.0, 41.0), ...,\n",
       "       (0, cftime.DatetimeJulian(2016, 8, 8, 12, 0, 0, 0), 36.0, 4.0),\n",
       "       (5, cftime.DatetimeJulian(2016, 8, 8, 12, 0, 0, 0), 41.0, 45.0),\n",
       "       (2, cftime.DatetimeJulian(2016, 8, 8, 12, 0, 0, 0), 24.0, 26.0)],\n",
       "      dtype=object)</pre></div></li><li class='xr-var-item'><div class='xr-var-name'><span>tile</span></div><div class='xr-var-dims'>(sample)</div><div class='xr-var-dtype'>int64</div><div class='xr-var-preview xr-preview'>5 2 4 4 3 0 1 4 ... 0 1 3 0 0 0 5 2</div><input id='attrs-3a8f17d0-03c3-48aa-a58b-2a577331d4de' class='xr-var-attrs-in' type='checkbox' disabled><label for='attrs-3a8f17d0-03c3-48aa-a58b-2a577331d4de' title='Show/Hide attributes'><svg class='icon xr-icon-file-text2'><use xlink:href='#icon-file-text2'></use></svg></label><input id='data-1503c9ac-b782-4326-b785-046d8b11ceed' class='xr-var-data-in' type='checkbox'><label for='data-1503c9ac-b782-4326-b785-046d8b11ceed' title='Show/Hide data repr'><svg class='icon xr-icon-database'><use xlink:href='#icon-database'></use></svg></label><div class='xr-var-attrs'><dl class='xr-attrs'></dl></div><div class='xr-var-data'><pre>array([5, 2, 4, ..., 0, 5, 2])</pre></div></li><li class='xr-var-item'><div class='xr-var-name'><span>time</span></div><div class='xr-var-dims'>(sample)</div><div class='xr-var-dtype'>object</div><div class='xr-var-preview xr-preview'>2016-08-08 12:00:00 ... 2016-08-...</div><input id='attrs-66639c5e-975d-4226-95d4-ef523a989f5c' class='xr-var-attrs-in' type='checkbox' disabled><label for='attrs-66639c5e-975d-4226-95d4-ef523a989f5c' title='Show/Hide attributes'><svg class='icon xr-icon-file-text2'><use xlink:href='#icon-file-text2'></use></svg></label><input id='data-ff7d6d6a-1df8-4e6c-8002-cc6b71b24240' class='xr-var-data-in' type='checkbox'><label for='data-ff7d6d6a-1df8-4e6c-8002-cc6b71b24240' title='Show/Hide data repr'><svg class='icon xr-icon-database'><use xlink:href='#icon-database'></use></svg></label><div class='xr-var-attrs'><dl class='xr-attrs'></dl></div><div class='xr-var-data'><pre>array([cftime.DatetimeJulian(2016, 8, 8, 12, 0, 0, 0),\n",
       "       cftime.DatetimeJulian(2016, 8, 8, 12, 0, 0, 0),\n",
       "       cftime.DatetimeJulian(2016, 8, 8, 12, 0, 0, 0), ...,\n",
       "       cftime.DatetimeJulian(2016, 8, 8, 12, 0, 0, 0),\n",
       "       cftime.DatetimeJulian(2016, 8, 8, 12, 0, 0, 0),\n",
       "       cftime.DatetimeJulian(2016, 8, 8, 12, 0, 0, 0)], dtype=object)</pre></div></li><li class='xr-var-item'><div class='xr-var-name'><span>x</span></div><div class='xr-var-dims'>(sample)</div><div class='xr-var-dtype'>float64</div><div class='xr-var-preview xr-preview'>14.0 28.0 38.0 ... 36.0 41.0 24.0</div><input id='attrs-44e35562-4db2-4dbb-9cbb-693fe19c049e' class='xr-var-attrs-in' type='checkbox' disabled><label for='attrs-44e35562-4db2-4dbb-9cbb-693fe19c049e' title='Show/Hide attributes'><svg class='icon xr-icon-file-text2'><use xlink:href='#icon-file-text2'></use></svg></label><input id='data-fdd0fd80-6427-4795-a3d1-db6a0b2f903d' class='xr-var-data-in' type='checkbox'><label for='data-fdd0fd80-6427-4795-a3d1-db6a0b2f903d' title='Show/Hide data repr'><svg class='icon xr-icon-database'><use xlink:href='#icon-database'></use></svg></label><div class='xr-var-attrs'><dl class='xr-attrs'></dl></div><div class='xr-var-data'><pre>array([14., 28., 38., ..., 36., 41., 24.])</pre></div></li><li class='xr-var-item'><div class='xr-var-name'><span>y</span></div><div class='xr-var-dims'>(sample)</div><div class='xr-var-dtype'>float64</div><div class='xr-var-preview xr-preview'>13.0 13.0 41.0 ... 4.0 45.0 26.0</div><input id='attrs-fb0b0b54-afd8-47a4-81cc-b80035966fb6' class='xr-var-attrs-in' type='checkbox' disabled><label for='attrs-fb0b0b54-afd8-47a4-81cc-b80035966fb6' title='Show/Hide attributes'><svg class='icon xr-icon-file-text2'><use xlink:href='#icon-file-text2'></use></svg></label><input id='data-cf4e8fdf-26b5-430d-93ad-d4199dd00f52' class='xr-var-data-in' type='checkbox'><label for='data-cf4e8fdf-26b5-430d-93ad-d4199dd00f52' title='Show/Hide data repr'><svg class='icon xr-icon-database'><use xlink:href='#icon-database'></use></svg></label><div class='xr-var-attrs'><dl class='xr-attrs'></dl></div><div class='xr-var-data'><pre>array([13., 13., 41., ...,  4., 45., 26.])</pre></div></li></ul></div></li><li class='xr-section-item'><input id='section-1c86e86d-89c4-47c8-83f0-de7b3e701034' class='xr-section-summary-in' type='checkbox'  checked><label for='section-1c86e86d-89c4-47c8-83f0-de7b3e701034' class='xr-section-summary' >Data variables: <span>(4)</span></label><div class='xr-section-inline-details'></div><div class='xr-section-details'><ul class='xr-var-list'><li class='xr-var-item'><div class='xr-var-name'><span>air_temperature</span></div><div class='xr-var-dims'>(sample, z)</div><div class='xr-var-dtype'>float64</div><div class='xr-var-preview xr-preview'>233.3 228.4 219.4 ... 272.3 272.6</div><input id='attrs-1215a573-68fa-4b1c-8943-7c83b1047296' class='xr-var-attrs-in' type='checkbox' ><label for='attrs-1215a573-68fa-4b1c-8943-7c83b1047296' title='Show/Hide attributes'><svg class='icon xr-icon-file-text2'><use xlink:href='#icon-file-text2'></use></svg></label><input id='data-12ba450f-8c62-4be7-8853-59399e5a904b' class='xr-var-data-in' type='checkbox'><label for='data-12ba450f-8c62-4be7-8853-59399e5a904b' title='Show/Hide data repr'><svg class='icon xr-icon-database'><use xlink:href='#icon-database'></use></svg></label><div class='xr-var-attrs'><dl class='xr-attrs'><dt><span>units :</span></dt><dd>degK</dd></dl></div><div class='xr-var-data'><pre>array([[233.32161634, 228.42049111, 219.39598259, ..., 266.80448029,\n",
       "        267.22008057, 267.7038062 ],\n",
       "       [254.77094675, 231.49230373, 228.09771421, ..., 287.92424001,\n",
       "        288.31034091, 288.56026098],\n",
       "       [243.55661744, 233.85482297, 223.70621474, ..., 276.5578005 ,\n",
       "        276.69832266, 276.81318934],\n",
       "       ...,\n",
       "       [241.04195674, 224.33187371, 224.19186058, ..., 286.01979873,\n",
       "        286.4706343 , 286.96271576],\n",
       "       [238.79873953, 222.93715338, 220.5000248 , ..., 280.62371283,\n",
       "        281.02558755, 281.39066916],\n",
       "       [252.11306754, 228.53886203, 226.09999182, ..., 271.95733755,\n",
       "        272.32207714, 272.61732146]])</pre></div></li><li class='xr-var-item'><div class='xr-var-name'><span>specific_humidity</span></div><div class='xr-var-dims'>(sample, z)</div><div class='xr-var-dtype'>float64</div><div class='xr-var-preview xr-preview'>4.66e-06 5.204e-06 ... 0.002742</div><input id='attrs-14e9f9f7-c2ba-462f-8e1f-97c166dba84d' class='xr-var-attrs-in' type='checkbox' ><label for='attrs-14e9f9f7-c2ba-462f-8e1f-97c166dba84d' title='Show/Hide attributes'><svg class='icon xr-icon-file-text2'><use xlink:href='#icon-file-text2'></use></svg></label><input id='data-31326e4b-a609-445c-8218-b7bda682d5e6' class='xr-var-data-in' type='checkbox'><label for='data-31326e4b-a609-445c-8218-b7bda682d5e6' title='Show/Hide data repr'><svg class='icon xr-icon-database'><use xlink:href='#icon-database'></use></svg></label><div class='xr-var-attrs'><dl class='xr-attrs'><dt><span>units :</span></dt><dd>kg/kg</dd></dl></div><div class='xr-var-data'><pre>array([[4.66043722e-06, 5.20418504e-06, 5.17718970e-06, ...,\n",
       "        1.45576616e-03, 1.48248531e-03, 1.54740339e-03],\n",
       "       [2.57302618e-06, 2.56755895e-06, 2.54045206e-06, ...,\n",
       "        7.15543292e-03, 7.28323408e-03, 7.51780304e-03],\n",
       "       [4.25516642e-06, 4.39894782e-06, 4.52238821e-06, ...,\n",
       "        1.43689142e-03, 1.44534248e-03, 1.45172446e-03],\n",
       "       ...,\n",
       "       [3.96185508e-06, 4.66385155e-06, 4.47354080e-06, ...,\n",
       "        5.24739959e-03, 5.32129739e-03, 5.49860805e-03],\n",
       "       [4.35918773e-06, 4.64165235e-06, 4.58533352e-06, ...,\n",
       "        4.12518040e-03, 4.18036352e-03, 4.31211105e-03],\n",
       "       [2.40586065e-06, 2.50144709e-06, 2.47750850e-06, ...,\n",
       "        2.64264205e-03, 2.67941602e-03, 2.74201471e-03]])</pre></div></li><li class='xr-var-item'><div class='xr-var-name'><span>tendency_of_specific_humidity_due_to_fv3_physics</span></div><div class='xr-var-dims'>(sample, z)</div><div class='xr-var-dtype'>float64</div><div class='xr-var-preview xr-preview'>1.72e-18 -1.714e-18 ... -2.632e-10</div><input id='attrs-325f659f-97d2-4c83-a7ff-60d9f4653723' class='xr-var-attrs-in' type='checkbox' ><label for='attrs-325f659f-97d2-4c83-a7ff-60d9f4653723' title='Show/Hide attributes'><svg class='icon xr-icon-file-text2'><use xlink:href='#icon-file-text2'></use></svg></label><input id='data-ea90a3d7-82cc-4716-97d1-ec5af23aa404' class='xr-var-data-in' type='checkbox'><label for='data-ea90a3d7-82cc-4716-97d1-ec5af23aa404' title='Show/Hide data repr'><svg class='icon xr-icon-database'><use xlink:href='#icon-database'></use></svg></label><div class='xr-var-attrs'><dl class='xr-attrs'><dt><span>units :</span></dt><dd>unknown</dd></dl></div><div class='xr-var-data'><pre>array([[ 1.72035121e-18, -1.71358153e-18, -3.32336483e-18, ...,\n",
       "         6.38152487e-09,  6.43721147e-09,  6.09395669e-09],\n",
       "       [-1.54150585e-20, -1.95789783e-19, -6.41731454e-19, ...,\n",
       "         5.53539869e-08, -6.23659389e-08, -2.39197647e-07],\n",
       "       [ 4.56362529e-19,  6.71317845e-19, -4.86711343e-18, ...,\n",
       "        -5.80329822e-10,  1.24277309e-09,  4.96188709e-09],\n",
       "       ...,\n",
       "       [ 2.15355021e-18, -3.39161968e-18, -1.78175733e-18, ...,\n",
       "         6.06115355e-08,  6.53317396e-08,  7.48240258e-08],\n",
       "       [ 8.80502984e-19, -1.22548350e-18, -2.68418153e-18, ...,\n",
       "         1.85213944e-08,  2.69689766e-08,  1.61403892e-08],\n",
       "       [ 2.72916368e-19, -4.23302363e-19, -5.54278597e-19, ...,\n",
       "        -3.59406798e-10, -3.58212198e-10, -2.63232430e-10]])</pre></div></li><li class='xr-var-item'><div class='xr-var-name'><span>tendency_of_specific_humidity_due_to_microphysics</span></div><div class='xr-var-dims'>(sample, z)</div><div class='xr-var-dtype'>float64</div><div class='xr-var-preview xr-preview'>0.0 0.0 0.0 ... 9.55e-09 8.063e-09</div><input id='attrs-0968e0dd-2e31-42a2-8479-fec818221874' class='xr-var-attrs-in' type='checkbox' ><label for='attrs-0968e0dd-2e31-42a2-8479-fec818221874' title='Show/Hide attributes'><svg class='icon xr-icon-file-text2'><use xlink:href='#icon-file-text2'></use></svg></label><input id='data-395c4296-af00-4c93-a58f-d7bc89ea7b8f' class='xr-var-data-in' type='checkbox'><label for='data-395c4296-af00-4c93-a58f-d7bc89ea7b8f' title='Show/Hide data repr'><svg class='icon xr-icon-database'><use xlink:href='#icon-database'></use></svg></label><div class='xr-var-attrs'><dl class='xr-attrs'><dt><span>units :</span></dt><dd>kg/kg/s</dd></dl></div><div class='xr-var-data'><pre>array([[0.00000000e+00, 0.00000000e+00, 0.00000000e+00, ...,\n",
       "        2.48889365e-08, 2.35049041e-08, 2.17536329e-08],\n",
       "       [0.00000000e+00, 0.00000000e+00, 0.00000000e+00, ...,\n",
       "        2.97012839e-11, 2.77801230e-11, 2.74169264e-11],\n",
       "       [0.00000000e+00, 0.00000000e+00, 0.00000000e+00, ...,\n",
       "        1.56542090e-10, 1.44266976e-10, 1.36719924e-10],\n",
       "       ...,\n",
       "       [0.00000000e+00, 0.00000000e+00, 0.00000000e+00, ...,\n",
       "        2.10935077e-09, 9.03595416e-10, 8.49099854e-10],\n",
       "       [0.00000000e+00, 0.00000000e+00, 0.00000000e+00, ...,\n",
       "        5.81117501e-14, 4.82760851e-14, 4.14838409e-14],\n",
       "       [0.00000000e+00, 0.00000000e+00, 0.00000000e+00, ...,\n",
       "        1.12707516e-08, 9.55040775e-09, 8.06340477e-09]])</pre></div></li></ul></div></li><li class='xr-section-item'><input id='section-b0d048a9-e80a-4571-b77b-e1d978f3fe51' class='xr-section-summary-in' type='checkbox' disabled ><label for='section-b0d048a9-e80a-4571-b77b-e1d978f3fe51' class='xr-section-summary'  title='Expand/collapse section'>Attributes: <span>(0)</span></label><div class='xr-section-inline-details'></div><div class='xr-section-details'><dl class='xr-attrs'></dl></div></li></ul></div></div>"
      ],
      "text/plain": [
       "<xarray.Dataset>\n",
       "Dimensions:                                            (sample: 13824, z: 79)\n",
       "Coordinates:\n",
       "  * sample                                             (sample) MultiIndex\n",
       "  - tile                                               (sample) int64 5 2 ... 2\n",
       "  - time                                               (sample) object 2016-0...\n",
       "  - x                                                  (sample) float64 14.0 ...\n",
       "  - y                                                  (sample) float64 13.0 ...\n",
       "Dimensions without coordinates: z\n",
       "Data variables:\n",
       "    air_temperature                                    (sample, z) float64 23...\n",
       "    specific_humidity                                  (sample, z) float64 4....\n",
       "    tendency_of_specific_humidity_due_to_fv3_physics   (sample, z) float64 1....\n",
       "    tendency_of_specific_humidity_due_to_microphysics  (sample, z) float64 0...."
      ]
     },
     "execution_count": 9,
     "metadata": {},
     "output_type": "execute_result"
    }
   ],
   "source": [
    "# batches are accessed as an item in a sequence\n",
    "# mapper -> batch involves stacking everything but vertical dimension\n",
    "example = full_data_batches[0]\n",
    "example"
   ]
  },
  {
   "cell_type": "code",
   "execution_count": 10,
   "metadata": {},
   "outputs": [
    {
     "data": {
      "image/png": "[encoded data removed]",
      "text/plain": [
       "<Figure size 432x288 with 1 Axes>"
      ]
     },
     "metadata": {
      "needs_background": "light"
     },
     "output_type": "display_data"
    }
   ],
   "source": [
    "# example plotting a spatial map\n",
    "# must be [tile, x, y] dimensions\n",
    "ut.plot_var(example.unstack(\"sample\"), \"air_temperature\", isel_kwargs=dict(time=0, z=75))"
   ]
  },
  {
   "cell_type": "code",
   "execution_count": 11,
   "metadata": {},
   "outputs": [
    {
     "data": {
      "image/png": "[encoded data removed]",
      "text/plain": [
       "<Figure size 576x288 with 4 Axes>"
      ]
     },
     "metadata": {
      "needs_background": "light"
     },
     "output_type": "display_data"
    }
   ],
   "source": [
    "## example plotting vertical transect comparison\n",
    "micro_dq = \"tendency_of_specific_humidity_due_to_microphysics\"\n",
    "allphys_dq = \"tendency_of_specific_humidity_due_to_fv3_physics\"\n",
    "\n",
    "fig, ax = plt.subplots(1,2)\n",
    "fig.set_size_inches(8,4)\n",
    "vmin, vmax = -5e-7, 5e-7 \n",
    "ut.plot_meridional(\n",
    "    example.unstack(\"sample\").isel(time=0)[micro_dq],\n",
    "    micro_dq,\n",
    "    ax=ax[0],\n",
    "    title=\"Microphysics-only dq\",\n",
    "    vmin=vmin,\n",
    "    vmax=vmax\n",
    ")\n",
    "ut.plot_meridional(\n",
    "    example.unstack(\"sample\").isel(time=0)[allphys_dq],\n",
    "    allphys_dq,\n",
    "    ax=ax[1],\n",
    "    title=\"full physics dq\",\n",
    "    vmin=vmin,\n",
    "    vmax=vmax\n",
    ")\n",
    "plt.tight_layout()"
   ]
  },
  {
   "cell_type": "markdown",
   "metadata": {},
   "source": [
    "### from subset netcdf files "
   ]
  },
  {
   "cell_type": "code",
   "execution_count": 12,
   "metadata": {},
   "outputs": [],
   "source": [
    "data_path = \"/mnt/disks/scratch/training/training-subsets/simple-phys-hybridedmf-w-microphysics-12day/\"\n",
    "batches = te.get_subsampled_batches(data_path)"
   ]
  },
  {
   "cell_type": "code",
   "execution_count": 13,
   "metadata": {},
   "outputs": [],
   "source": [
    "air_temperature = batches[0][\"air_temperature\"]"
   ]
  },
  {
   "cell_type": "code",
   "execution_count": 14,
   "metadata": {},
   "outputs": [],
   "source": [
    "# multi index is dropped before netcdf save, so we have to add back in\n",
    "# to get full spatial field\n",
    "def _get_multi_idx(ds):\n",
    "    coords_to_unstack = [\"tile\", \"x\", \"y\"]\n",
    "    coords = [ds.coords[key].values for key in coords_to_unstack]\n",
    "    multi_idx = pd.MultiIndex.from_tuples(zip(*coords), names=coords_to_unstack)\n",
    "    \n",
    "    ds = ds.reset_coords(coords_to_unstack, drop=True)\n",
    "    return ds.assign_coords({\"sample\": multi_idx})\n",
    "    \n"
   ]
  },
  {
   "cell_type": "code",
   "execution_count": 15,
   "metadata": {},
   "outputs": [],
   "source": [
    "example =_get_multi_idx(batches[0])\n",
    "unstacked = example.unstack(\"sample\")"
   ]
  },
  {
   "cell_type": "code",
   "execution_count": 16,
   "metadata": {},
   "outputs": [
    {
     "data": {
      "image/png": "[encoded data removed]",
      "text/plain": [
       "<Figure size 432x288 with 1 Axes>"
      ]
     },
     "metadata": {
      "needs_background": "light"
     },
     "output_type": "display_data"
    }
   ],
   "source": [
    "ut.plot_var(\n",
    "    unstacked,\n",
    "    \"air_temperature\",\n",
    "    isel_kwargs=dict(z=75)\n",
    ")"
   ]
  },
  {
   "cell_type": "markdown",
   "metadata": {},
   "source": [
    "## NN Example\n",
    "\n",
    "Many different ways to generate models in tensorflow.\n",
    "\n",
    "This example shows the \"Keras\"-style usage"
   ]
  },
  {
   "cell_type": "code",
   "execution_count": 17,
   "metadata": {},
   "outputs": [],
   "source": [
    "import tensorflow as tf"
   ]
  },
  {
   "cell_type": "code",
   "execution_count": 18,
   "metadata": {},
   "outputs": [],
   "source": [
    "def get_emu_model(input_shape, output_shape):\n",
    "\n",
    "    inputs = tf.keras.layers.Input(input_shape)\n",
    "    hidden_layer = tf.keras.layers.Dense(\n",
    "        250, activation=tf.keras.activations.tanh\n",
    "    )(inputs)\n",
    "    outputs = tf.keras.layers.Dense(output_shape)(hidden_layer)\n",
    "    model = tf.keras.Model(inputs=inputs, outputs=outputs)\n",
    "\n",
    "    optimizer = tf.optimizers.Adam(learning_rate=1e-3)\n",
    "\n",
    "    model.compile(optimizer=optimizer, loss=\"mse\", metrics=[\"mae\"])\n",
    "\n",
    "    return model\n"
   ]
  },
  {
   "cell_type": "code",
   "execution_count": 19,
   "metadata": {},
   "outputs": [],
   "source": [
    "model = get_emu_model(10, 20)"
   ]
  },
  {
   "cell_type": "code",
   "execution_count": 20,
   "metadata": {},
   "outputs": [
    {
     "name": "stdout",
     "output_type": "stream",
     "text": [
      "Model: \"model\"\n",
      "_________________________________________________________________\n",
      "Layer (type)                 Output Shape              Param #   \n",
      "=================================================================\n",
      "input_1 (InputLayer)         [(None, 10)]              0         \n",
      "_________________________________________________________________\n",
      "dense (Dense)                (None, 250)               2750      \n",
      "_________________________________________________________________\n",
      "dense_1 (Dense)              (None, 20)                5020      \n",
      "=================================================================\n",
      "Total params: 7,770\n",
      "Trainable params: 7,770\n",
      "Non-trainable params: 0\n",
      "_________________________________________________________________\n"
     ]
    }
   ],
   "source": [
    "model.summary()"
   ]
  },
  {
   "cell_type": "markdown",
   "metadata": {},
   "source": [
    "Models can be composed within other models.  You can control whether they should be trained together or not by freezing internal parameters!"
   ]
  },
  {
   "cell_type": "code",
   "execution_count": 21,
   "metadata": {},
   "outputs": [],
   "source": [
    "model2 = get_emu_model(10, 20)"
   ]
  },
  {
   "cell_type": "code",
   "execution_count": 22,
   "metadata": {},
   "outputs": [],
   "source": [
    "ensemble_inputs = tf.keras.layers.Input(10)\n",
    "member1 = model(ensemble_inputs)\n",
    "member2 = model2(ensemble_inputs)\n",
    "avg = tf.keras.layers.Average()([member1, member2])\n",
    "ensemble = tf.keras.Model(inputs=ensemble_inputs, outputs=avg)"
   ]
  },
  {
   "cell_type": "code",
   "execution_count": 23,
   "metadata": {},
   "outputs": [
    {
     "name": "stdout",
     "output_type": "stream",
     "text": [
      "Model: \"model_2\"\n",
      "__________________________________________________________________________________________________\n",
      "Layer (type)                    Output Shape         Param #     Connected to                     \n",
      "==================================================================================================\n",
      "input_3 (InputLayer)            [(None, 10)]         0                                            \n",
      "__________________________________________________________________________________________________\n",
      "model (Functional)              (None, 20)           7770        input_3[0][0]                    \n",
      "__________________________________________________________________________________________________\n",
      "model_1 (Functional)            (None, 20)           7770        input_3[0][0]                    \n",
      "__________________________________________________________________________________________________\n",
      "average (Average)               (None, 20)           0           model[0][0]                      \n",
      "                                                                 model_1[0][0]                    \n",
      "==================================================================================================\n",
      "Total params: 15,540\n",
      "Trainable params: 15,540\n",
      "Non-trainable params: 0\n",
      "__________________________________________________________________________________________________\n"
     ]
    }
   ],
   "source": [
    "ensemble.summary()"
   ]
  },
  {
   "cell_type": "markdown",
   "metadata": {},
   "source": [
    "##  Training a model\n",
    "\n",
    "This will change as we get some of the shared tooling into fv3fit\n",
    "\n",
    "### Load configuration"
   ]
  },
  {
   "cell_type": "code",
   "execution_count": 24,
   "metadata": {},
   "outputs": [],
   "source": [
    "# example of a yaml config\n",
    "config_yaml = \"\"\"\n",
    "train_data_path: \"/mnt/disks/scratch/training/training-subsets/simple-phys-hybridedmf-w-microphysics-12day/\"\n",
    "test_data_path: \"/mnt/disks/scratch/testing/validation-subsets/simple-phys-hybridedmf-w-microphysics-12day/\"\n",
    "input_variables:\n",
    "  - \"air_temperature\"\n",
    "  - \"specific_humidity\"\n",
    "output_variables:\n",
    "  - \"tendency_of_specific_humidity_due_to_fv3_physics\"\n",
    "vertical_subselections:\n",
    "    specific_humidity: [15, null]\n",
    "    tendency_of_specific_humidity_due_to_fv3_physics: [15, null]\n",
    "save_path: gs://vcm-ml-scratch/andrep/test-emu-model-delete\n",
    "antarctic_only: False\n",
    "fit_kwargs:\n",
    "  epochs: 1\n",
    "  validation_freq: 5\n",
    "  batch_size: 64\n",
    "  verbose: 2\n",
    "\"\"\""
   ]
  },
  {
   "cell_type": "code",
   "execution_count": 25,
   "metadata": {},
   "outputs": [],
   "source": [
    "# just a simple way to go from the string in the notebook into\n",
    "# what I usually use for loading from (a yaml file)\n",
    "with tempfile.NamedTemporaryFile(mode=\"w\") as f:\n",
    "    f.write(config_yaml)\n",
    "    f.flush()\n",
    "    config = te.load_config(f.name)"
   ]
  },
  {
   "cell_type": "code",
   "execution_count": 26,
   "metadata": {},
   "outputs": [
    {
     "data": {
      "text/plain": [
       "TrainingConfig(train_data_path='/mnt/disks/scratch/training/training-subsets/simple-phys-hybridedmf-w-microphysics-12day/', test_data_path='/mnt/disks/scratch/testing/validation-subsets/simple-phys-hybridedmf-w-microphysics-12day/', input_variables=['air_temperature', 'specific_humidity'], output_variables=['tendency_of_specific_humidity_due_to_fv3_physics'], save_path='gs://vcm-ml-scratch/andrep/test-emu-model-delete', vertical_subselections={'specific_humidity': slice(15, None, None), 'tendency_of_specific_humidity_due_to_fv3_physics': slice(15, None, None)}, antarctic_only=False, fit_kwargs={'epochs': 1, 'validation_freq': 5, 'batch_size': 64, 'verbose': 2})"
      ]
     },
     "execution_count": 26,
     "metadata": {},
     "output_type": "execute_result"
    }
   ],
   "source": [
    "config"
   ]
  },
  {
   "cell_type": "markdown",
   "metadata": {},
   "source": [
    "### Get train/test data pipeline"
   ]
  },
  {
   "cell_type": "code",
   "execution_count": 27,
   "metadata": {},
   "outputs": [],
   "source": [
    "train_batches = te.get_subsampled_batches(config.train_data_path)\n",
    "test_batches = te.get_subsampled_batches(config.test_data_path)"
   ]
  },
  {
   "cell_type": "code",
   "execution_count": 28,
   "metadata": {},
   "outputs": [],
   "source": [
    "# input preprocessing normalizes, stacks and groups into X, y\n",
    "preproc, save_info, y_features = te.load_batch_preprocessing_chain(config, train_batches, num_std_batches=96)\n"
   ]
  },
  {
   "cell_type": "code",
   "execution_count": 29,
   "metadata": {},
   "outputs": [
    {
     "data": {
      "text/plain": [
       "Compose(<function stack_io at 0x7fcc41c54ef0>, <function standardize at 0x7fcc41c54950>, <function extract_ds_arrays at 0x7fcc41c4bb00>)"
      ]
     },
     "execution_count": 29,
     "metadata": {},
     "output_type": "execute_result"
    }
   ],
   "source": [
    "preproc"
   ]
  },
  {
   "cell_type": "code",
   "execution_count": 30,
   "metadata": {},
   "outputs": [
    {
     "name": "stderr",
     "output_type": "stream",
     "text": [
      "/home/jmnugent/fv3net/external/fv3fit/fv3fit/_shared/_transforms/emu_transforms.py:50: RuntimeWarning: invalid value encountered in true_divide\n",
      "  standardized[varname] = (dataset[varname] - mean) / std\n"
     ]
    }
   ],
   "source": [
    "X, y = preproc(train_batches[0])"
   ]
  },
  {
   "cell_type": "code",
   "execution_count": 31,
   "metadata": {},
   "outputs": [],
   "source": [
    "# warning right now is being thrown because the ozone mixing ratios tendencies, it seems"
   ]
  },
  {
   "cell_type": "code",
   "execution_count": 32,
   "metadata": {},
   "outputs": [
    {
     "data": {
      "text/plain": [
       "(2560, 143)"
      ]
     },
     "execution_count": 32,
     "metadata": {},
     "output_type": "execute_result"
    }
   ],
   "source": [
    "X.shape"
   ]
  },
  {
   "cell_type": "code",
   "execution_count": 33,
   "metadata": {},
   "outputs": [
    {
     "data": {
      "text/plain": [
       "(2560, 64)"
      ]
     },
     "execution_count": 33,
     "metadata": {},
     "output_type": "execute_result"
    }
   ],
   "source": [
    "y.shape"
   ]
  },
  {
   "cell_type": "code",
   "execution_count": 34,
   "metadata": {},
   "outputs": [],
   "source": [
    "train_ds = te.batches_to_tf_dataset(preproc, train_batches[:12])\n",
    "valid_ds = te.batches_to_tf_dataset(preproc, test_batches[:12])"
   ]
  },
  {
   "cell_type": "markdown",
   "metadata": {},
   "source": [
    "### Train model"
   ]
  },
  {
   "cell_type": "code",
   "execution_count": 35,
   "metadata": {},
   "outputs": [],
   "source": [
    "model = get_emu_model(X.shape[-1], y.shape[-1])"
   ]
  },
  {
   "cell_type": "code",
   "execution_count": 36,
   "metadata": {},
   "outputs": [
    {
     "name": "stdout",
     "output_type": "stream",
     "text": [
      "Model: \"model_3\"\n",
      "_________________________________________________________________\n",
      "Layer (type)                 Output Shape              Param #   \n",
      "=================================================================\n",
      "input_4 (InputLayer)         [(None, 143)]             0         \n",
      "_________________________________________________________________\n",
      "dense_4 (Dense)              (None, 250)               36000     \n",
      "_________________________________________________________________\n",
      "dense_5 (Dense)              (None, 64)                16064     \n",
      "=================================================================\n",
      "Total params: 52,064\n",
      "Trainable params: 52,064\n",
      "Non-trainable params: 0\n",
      "_________________________________________________________________\n"
     ]
    }
   ],
   "source": [
    "model.summary()"
   ]
  },
  {
   "cell_type": "code",
   "execution_count": 37,
   "metadata": {},
   "outputs": [
    {
     "name": "stdout",
     "output_type": "stream",
     "text": [
      "Epoch 1/10\n",
      "480/480 [==============================] - 12s 7ms/step - loss: 0.2756 - mae: 0.2039\n",
      "Epoch 2/10\n",
      "480/480 [==============================] - 14s 27ms/step - loss: 0.2545 - mae: 0.1747 - val_loss: 0.2842 - val_mae: 0.1916\n",
      "Epoch 3/10\n",
      "480/480 [==============================] - 1s 2ms/step - loss: 0.2513 - mae: 0.1722\n",
      "Epoch 4/10\n",
      "480/480 [==============================] - 2s 4ms/step - loss: 0.2491 - mae: 0.1704 - val_loss: 0.2791 - val_mae: 0.1834\n",
      "Epoch 5/10\n",
      "480/480 [==============================] - 1s 2ms/step - loss: 0.2475 - mae: 0.1685\n",
      "Epoch 6/10\n",
      "480/480 [==============================] - 2s 4ms/step - loss: 0.2461 - mae: 0.1668 - val_loss: 0.2762 - val_mae: 0.1791\n",
      "Epoch 7/10\n",
      "480/480 [==============================] - 1s 2ms/step - loss: 0.2449 - mae: 0.1652\n",
      "Epoch 8/10\n",
      "480/480 [==============================] - 2s 4ms/step - loss: 0.2439 - mae: 0.1638 - val_loss: 0.2738 - val_mae: 0.1756\n",
      "Epoch 9/10\n",
      "480/480 [==============================] - 1s 2ms/step - loss: 0.2430 - mae: 0.1628\n",
      "Epoch 10/10\n",
      "480/480 [==============================] - 2s 4ms/step - loss: 0.2423 - mae: 0.1620 - val_loss: 0.2721 - val_mae: 0.1729\n"
     ]
    },
    {
     "data": {
      "text/plain": [
       "<tensorflow.python.keras.callbacks.History at 0x7fcc2fc49290>"
      ]
     },
     "execution_count": 37,
     "metadata": {},
     "output_type": "execute_result"
    }
   ],
   "source": [
    "model.fit(\n",
    "    train_ds.batch(64),\n",
    "    epochs=10,\n",
    "    validation_data=valid_ds.batch(64),\n",
    "    validation_freq=2\n",
    ")"
   ]
  },
  {
   "cell_type": "code",
   "execution_count": 38,
   "metadata": {},
   "outputs": [],
   "source": [
    "out = model.predict(X)"
   ]
  },
  {
   "cell_type": "code",
   "execution_count": 39,
   "metadata": {},
   "outputs": [
    {
     "data": {
      "text/plain": [
       "(2560, 64)"
      ]
     },
     "execution_count": 39,
     "metadata": {},
     "output_type": "execute_result"
    }
   ],
   "source": [
    "out.shape"
   ]
  },
  {
   "cell_type": "markdown",
   "metadata": {},
   "source": [
    "##### My additions"
   ]
  },
  {
   "cell_type": "code",
   "execution_count": 39,
   "metadata": {},
   "outputs": [
    {
     "data": {
      "text/plain": [
       "array([[ 1.2636317e-02,  3.4323040e-02,  4.0472440e-02, ...,\n",
       "         2.4543709e-01,  2.3803475e-01,  1.3328189e-01],\n",
       "       [-2.3408815e-02, -1.3203620e-02,  7.0654601e-02, ...,\n",
       "        -1.7365900e-01, -1.7372502e-01, -1.1385121e-01],\n",
       "       [-1.1511752e-02, -2.9244000e-02,  1.5428551e-03, ...,\n",
       "        -5.0271843e-03,  4.8653096e-02,  5.0514005e-02],\n",
       "       ...,\n",
       "       [ 3.1957203e-03,  1.6376261e-02, -2.8220452e-02, ...,\n",
       "         9.6999012e-02,  1.2579155e-01,  1.3262703e-01],\n",
       "       [ 2.6352471e-04, -7.3603585e-02, -2.2786595e-03, ...,\n",
       "        -1.1434033e-01, -2.7901262e-02,  1.3342813e-02],\n",
       "       [-2.0008767e-02,  7.1837872e-02, -5.6429096e-03, ...,\n",
       "        -4.1933519e-01, -4.3478844e-01, -3.9194933e-01]], dtype=float32)"
      ]
     },
     "execution_count": 39,
     "metadata": {},
     "output_type": "execute_result"
    }
   ],
   "source": [
    "out"
   ]
  },
  {
   "cell_type": "code",
   "execution_count": 41,
   "metadata": {},
   "outputs": [
    {
     "data": {
      "text/plain": [
       "(2560, 64)"
      ]
     },
     "execution_count": 41,
     "metadata": {},
     "output_type": "execute_result"
    }
   ],
   "source": [
    "y.shape"
   ]
  },
  {
   "cell_type": "code",
   "execution_count": 43,
   "metadata": {},
   "outputs": [],
   "source": [
    "import numpy as np"
   ]
  },
  {
   "cell_type": "code",
   "execution_count": 48,
   "metadata": {},
   "outputs": [
    {
     "data": {
      "image/png": "[encoded data removed]",
      "text/plain": [
       "<Figure size 288x432 with 1 Axes>"
      ]
     },
     "metadata": {
      "needs_background": "light"
     },
     "output_type": "display_data"
    }
   ],
   "source": [
    "fig, ax = plt.subplots(figsize=(4, 6))\n",
    "ax.plot(np.mean(out, axis=0), np.arange(0, 64), label='predicted')\n",
    "ax.plot(np.mean(y, axis=0), np.arange(0, 64), label='true')\n",
    "plt.gca().invert_yaxis()\n",
    "plt.show()\n"
   ]
  },
  {
   "cell_type": "code",
   "execution_count": null,
   "metadata": {},
   "outputs": [],
   "source": []
  }
 ],
 "metadata": {
  "kernelspec": {
   "display_name": "Python 3",
   "language": "python",
   "name": "python3"
  },
  "language_info": {
   "codemirror_mode": {
    "name": "ipython",
    "version": 3
   },
   "file_extension": ".py",
   "mimetype": "text/x-python",
   "name": "python",
   "nbconvert_exporter": "python",
   "pygments_lexer": "ipython3",
   "version": "3.7.9"
  }
 },
 "nbformat": 4,
 "nbformat_minor": 4
}
