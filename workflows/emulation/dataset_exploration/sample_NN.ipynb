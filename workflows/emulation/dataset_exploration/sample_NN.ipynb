{
 "cells": [
  {
   "cell_type": "markdown",
   "metadata": {},
   "source": [
    "# Trying simple neural network(s) to start"
   ]
  },
  {
   "cell_type": "code",
   "execution_count": 1,
   "metadata": {},
   "outputs": [
    {
     "name": "stderr",
     "output_type": "stream",
     "text": [
      "/home/jmnugent/miniconda3/envs/fv3net/lib/python3.7/site-packages/tensorflow_addons/utils/ensure_tf_install.py:68: UserWarning: Tensorflow Addons supports using Python ops for all Tensorflow versions above or equal to 2.2.0 and strictly below 2.4.0 (nightly versions are not supported). \n",
      " The versions of TensorFlow you are currently using is 2.4.0 and is not supported. \n",
      "Some things might work, some things might not.\n",
      "If you were to encounter a bug, do not file an issue.\n",
      "If you want to make sure you're using a tested and supported configuration, either change the TensorFlow version or the TensorFlow Addons's version. \n",
      "You can find the compatibility matrix in TensorFlow Addon's readme:\n",
      "https://github.com/tensorflow/addons\n",
      "  UserWarning,\n"
     ]
    }
   ],
   "source": [
    "import os\n",
    "\n",
    "import xarray as xr\n",
    "import numpy as np\n",
    "import tensorflow as tf\n",
    "import matplotlib.pyplot as plt\n",
    "\n",
    "from matplotlib import colors\n",
    "from cartopy import crs as ccrs\n",
    "from fv3fit._shared.packer import ArrayPacker\n",
    "from fv3viz import pcolormesh_cube, plot_cube_axes, mappable_var\n",
    "\n",
    "# from sklearn import metrics\n",
    "from sklearn.preprocessing import StandardScaler\n",
    "from tensorflow import keras\n"
   ]
  },
  {
   "cell_type": "markdown",
   "metadata": {},
   "source": [
    "## Set file paths & look at available variables"
   ]
  },
  {
   "cell_type": "code",
   "execution_count": 2,
   "metadata": {},
   "outputs": [],
   "source": [
    "DATA_PATH = '/mnt/disks/scratch/emulation_data/'\n",
    "TRAIN_PATH = os.path.join(DATA_PATH, 'training/training-subsets/')\n",
    "VALID_PATH = os.path.join(DATA_PATH, 'testing/validation-subsets/')\n",
    "\n",
    "TRAIN_HYBRID = os.path.join(TRAIN_PATH, 'training-online-simple-hybedmf/')\n",
    "VALID_HYBRID = os.path.join(VALID_PATH, 'training-online-simple-hybedmf/')\n",
    "\n",
    "TRAIN_SIMPLE = os.path.join(TRAIN_PATH, 'simple-phys-hybridedmf-10day/')\n",
    "VALID_SIMPLE = os.path.join(VALID_PATH, 'simple-phys-hybridedmf-10day/')\n",
    "\n",
    "SAVE_DIR = '/home/jmnugent/fv3net/workflows/emulation/dataset_exploration/plots/'\n"
   ]
  },
  {
   "cell_type": "code",
   "execution_count": 3,
   "metadata": {},
   "outputs": [
    {
     "name": "stdout",
     "output_type": "stream",
     "text": [
      "simple physics: train = 432 files, test = 144 files \n",
      "\n",
      "['cos_day', 'sin_day', 'cos_month', 'sin_month', 'latitude', 'longitude', 'cos_lon', 'sin_lon', 'cos_zenith_angle', 'surface_pressure', 'surface_temperature', 'canopy_water', 'sea_ice_thickness', 'snow_depth_water_equivalent', 'vertical_thickness_of_atmospheric_layer', 'pressure_thickness_of_atmospheric_layer', 'eastward_wind', 'northward_wind', 'vertical_wind', 'air_temperature', 'specific_humidity', 'cloud_water_mixing_ratio', 'tendency_of_air_temperature_due_to_fv3_physics', 'tendency_of_specific_humidity_due_to_fv3_physics', 'tendency_of_eastward_wind_due_to_fv3_physics', 'tendency_of_northward_wind_due_to_fv3_physics', 'tendency_of_cloud_water_mixing_ratio_due_to_fv3_physics', 'total_soil_moisture', 'liquid_soil_moisture', 'soil_temperature']\n"
     ]
    }
   ],
   "source": [
    "train_list_simp = [TRAIN_SIMPLE + f for f in os.listdir(TRAIN_SIMPLE) if f.endswith('.nc')]\n",
    "test_list_simp = [VALID_SIMPLE + f for f in os.listdir(VALID_SIMPLE) if f.endswith('.nc')]\n",
    "\n",
    "print('simple physics: train =', len(train_list_simp), 'files, test =', len(test_list_simp), 'files', '\\n')\n",
    "print([v for v in xr.open_dataset(train_list_simp[0]).data_vars])\n"
   ]
  },
  {
   "cell_type": "markdown",
   "metadata": {},
   "source": [
    "## Read in & preprocess the datasets\n",
    "Only the input/output variables you want for now... "
   ]
  },
  {
   "cell_type": "code",
   "execution_count": 4,
   "metadata": {},
   "outputs": [],
   "source": [
    "qc = 'cloud_water_mixing_ratio'\n",
    "dqcdt = 'tendency_of_cloud_water_mixing_ratio_due_to_fv3_physics'\n",
    "tair = 'air_temperature'\n",
    "pres = 'pressure_thickness_of_atmospheric_layer'\n",
    "qv = 'specific_humidity'\n",
    "tsfc = 'surface_temperature'\n",
    "u = 'eastward_wind'\n",
    "v = 'northward_wind'\n",
    "w = 'vertical_wind'\n",
    "\n",
    "input_variables = [qc, tair, qv, w, pres]\n",
    "output_variables = [dqcdt]\n"
   ]
  },
  {
   "cell_type": "code",
   "execution_count": 5,
   "metadata": {},
   "outputs": [],
   "source": [
    "timesteps_train = [[]]*len(train_list_simp)\n",
    "timesteps_test = [[]]*len(test_list_simp)\n",
    "\n",
    "for i in range(len(train_list_simp)):\n",
    "    timesteps_train[i] = xr.open_dataset(train_list_simp[i])[input_variables + output_variables]\n",
    "    if i < len(test_list_simp):\n",
    "        timesteps_test[i] = xr.open_dataset(test_list_simp[i])[input_variables + output_variables]\n"
   ]
  },
  {
   "cell_type": "code",
   "execution_count": 6,
   "metadata": {},
   "outputs": [
    {
     "name": "stdout",
     "output_type": "stream",
     "text": [
      "CPU times: user 1min 11s, sys: 7.65 s, total: 1min 18s\n",
      "Wall time: 5min 15s\n"
     ]
    }
   ],
   "source": [
    "%%time\n",
    "# takes ~4-5 min\n",
    "\n",
    "# combine along the ssample dimension to merge the individual datasets into one\n",
    "ds_train = xr.concat(timesteps_train, dim='sample')\n",
    "ds_test = xr.concat(timesteps_test, dim='sample')\n"
   ]
  },
  {
   "cell_type": "code",
   "execution_count": 7,
   "metadata": {},
   "outputs": [],
   "source": [
    "# drop nans\n",
    "stacked_train = ds_train.dropna(dim='sample')\n",
    "stacked_test = ds_test.dropna(dim='sample')\n",
    "\n",
    "# normalize the outputs\n",
    "y_normalization = stacked_train[output_variables].std(dim=\"sample\")\n",
    "\n",
    "# use the ArrrayPacker class to convert into numpy arrays\n",
    "X_packer = ArrayPacker(sample_dim_name=\"sample\", pack_names=input_variables)\n",
    "y_packer = ArrayPacker(sample_dim_name=\"sample\", pack_names=output_variables)\n"
   ]
  },
  {
   "cell_type": "code",
   "execution_count": 8,
   "metadata": {},
   "outputs": [
    {
     "data": {
      "text/plain": [
       "((1105920, 395), (1105920, 79))"
      ]
     },
     "execution_count": 8,
     "metadata": {},
     "output_type": "execute_result"
    }
   ],
   "source": [
    "# the packer needs to convert from dataset to array first:\n",
    "\n",
    "X_train = X_packer.to_array(stacked_train)\n",
    "y_train = y_packer.to_array(stacked_train)\n",
    "\n",
    "X_test = X_packer.to_array(stacked_test)\n",
    "y_test = y_packer.to_array(stacked_test)\n",
    "\n",
    "# check shape... should be (# samples) x (total dimension of features)\n",
    "X_train.shape, y_train.shape\n"
   ]
  },
  {
   "cell_type": "code",
   "execution_count": 9,
   "metadata": {},
   "outputs": [],
   "source": [
    "# normalize the vectors using StandardScaler\n",
    "\n",
    "y_scaler = StandardScaler().fit(y_train)\n",
    "X_scaler = StandardScaler().fit(X_train)\n"
   ]
  },
  {
   "cell_type": "markdown",
   "metadata": {},
   "source": [
    "## Quick look at distributions"
   ]
  },
  {
   "cell_type": "code",
   "execution_count": 10,
   "metadata": {},
   "outputs": [],
   "source": [
    "def plot_hist(da_test, da_train, varname, nbins=100, ylog=False, xlog=False):\n",
    "    ''' Quick histogram \n",
    "    '''\n",
    "    fig, axes = plt.subplots(1, 2, figsize=(12, 3))\n",
    "    ax1 = axes[0]\n",
    "    ax2 = axes[1]\n",
    "    \n",
    "    ax1.hist(da_train.values.flatten(), bins=nbins)\n",
    "    ax2.hist(da_test.values.flatten(), bins=nbins)\n",
    "    \n",
    "    if ylog:\n",
    "        ax1.set_yscale('log')\n",
    "        ax2.set_yscale('log')\n",
    "    if xlog:\n",
    "        ax1.set_xscale('log')\n",
    "        ax2.set_xscale('log')\n",
    "        \n",
    "    ax1.set_title(varname + '\\n(training)')\n",
    "    ax2.set_title(varname + '\\n(testing)')\n",
    "    \n",
    "    plt.show()\n"
   ]
  },
  {
   "cell_type": "code",
   "execution_count": 11,
   "metadata": {
    "scrolled": false
   },
   "outputs": [
    {
     "data": {
      "image/png": "[encoded data removed]",
      "text/plain": [
       "<Figure size 864x216 with 2 Axes>"
      ]
     },
     "metadata": {
      "needs_background": "light"
     },
     "output_type": "display_data"
    },
    {
     "data": {
      "image/png": "[encoded data removed]",
      "text/plain": [
       "<Figure size 864x216 with 2 Axes>"
      ]
     },
     "metadata": {
      "needs_background": "light"
     },
     "output_type": "display_data"
    },
    {
     "data": {
      "image/png": "[encoded data removed]",
      "text/plain": [
       "<Figure size 864x216 with 2 Axes>"
      ]
     },
     "metadata": {
      "needs_background": "light"
     },
     "output_type": "display_data"
    },
    {
     "data": {
      "image/png": "[encoded data removed]",
      "text/plain": [
       "<Figure size 864x216 with 2 Axes>"
      ]
     },
     "metadata": {
      "needs_background": "light"
     },
     "output_type": "display_data"
    },
    {
     "data": {
      "image/png": "[encoded data removed]",
      "text/plain": [
       "<Figure size 864x216 with 2 Axes>"
      ]
     },
     "metadata": {
      "needs_background": "light"
     },
     "output_type": "display_data"
    },
    {
     "data": {
      "image/png": "[encoded data removed]",
      "text/plain": [
       "<Figure size 864x216 with 2 Axes>"
      ]
     },
     "metadata": {
      "needs_background": "light"
     },
     "output_type": "display_data"
    }
   ],
   "source": [
    "for v1 in input_variables:\n",
    "    plot_hist(stacked_train[v1], stacked_test[v1], v1)\n",
    "    \n",
    "for v2 in output_variables:\n",
    "    plot_hist(stacked_train[v2], stacked_test[v2], v2, ylog=True)\n"
   ]
  },
  {
   "cell_type": "markdown",
   "metadata": {},
   "source": [
    "## Build the neural network"
   ]
  },
  {
   "cell_type": "markdown",
   "metadata": {},
   "source": [
    "TODO: make a feature correlation heatmap like they used here: https://keras.io/examples/timeseries/timeseries_weather_forecasting/?"
   ]
  },
  {
   "cell_type": "code",
   "execution_count": 13,
   "metadata": {
    "scrolled": true
   },
   "outputs": [
    {
     "name": "stdout",
     "output_type": "stream",
     "text": [
      "Input shape: (1105920, 395)\n",
      "Target shape: (1105920, 79)\n"
     ]
    }
   ],
   "source": [
    "print(\"Input shape:\", X_train.shape)\n",
    "print(\"Target shape:\", y_train.shape)\n"
   ]
  },
  {
   "cell_type": "code",
   "execution_count": 14,
   "metadata": {},
   "outputs": [],
   "source": [
    "model = keras.Sequential()\n",
    "model.add(keras.layers.Dense(12, input_shape=(X_train.shape[1],)))\n",
    "model.add(keras.layers.Dense(8, activation='relu'))\n",
    "model.add(keras.layers.Dense(1, activation='sigmoid'))\n"
   ]
  },
  {
   "cell_type": "code",
   "execution_count": 15,
   "metadata": {},
   "outputs": [
    {
     "name": "stdout",
     "output_type": "stream",
     "text": [
      "Epoch 1/3\n",
      "34560/34560 [==============================] - 38s 1ms/step - loss: 4.8210e-17 - accuracy: 0.1304\n",
      "Epoch 2/3\n",
      "34560/34560 [==============================] - 45s 1ms/step - loss: 4.8615e-17 - accuracy: 0.1304\n",
      "Epoch 3/3\n",
      "34560/34560 [==============================] - 41s 1ms/step - loss: 4.8343e-17 - accuracy: 0.1303\n",
      "CPU times: user 2min 56s, sys: 35.6 s, total: 3min 32s\n",
      "Wall time: 2min 7s\n"
     ]
    },
    {
     "data": {
      "text/plain": [
       "<tensorflow.python.keras.callbacks.History at 0x7fefe5f05e10>"
      ]
     },
     "execution_count": 15,
     "metadata": {},
     "output_type": "execute_result"
    }
   ],
   "source": [
    "%%time \n",
    "\n",
    "model.compile(\n",
    "    optimizer='adam',\n",
    "    loss='mse',\n",
    "    metrics=['accuracy'])\n",
    "\n",
    "model.fit(X_train, y_train, epochs=3)\n"
   ]
  },
  {
   "cell_type": "code",
   "execution_count": 16,
   "metadata": {},
   "outputs": [
    {
     "name": "stdout",
     "output_type": "stream",
     "text": [
      "34560/34560 [==============================] - 27s 772us/step - loss: 4.8259e-17 - accuracy: 0.1304\n",
      "Accuracy: 13.04%\n"
     ]
    }
   ],
   "source": [
    "_, accuracy = model.evaluate(X_train, y_train)\n",
    "print('Accuracy: {:.2f}%'.format(accuracy*100))\n"
   ]
  },
  {
   "cell_type": "code",
   "execution_count": null,
   "metadata": {},
   "outputs": [],
   "source": []
  }
 ],
 "metadata": {
  "kernelspec": {
   "display_name": "fv3net",
   "language": "python",
   "name": "fv3net"
  },
  "language_info": {
   "codemirror_mode": {
    "name": "ipython",
    "version": 3
   },
   "file_extension": ".py",
   "mimetype": "text/x-python",
   "name": "python",
   "nbconvert_exporter": "python",
   "pygments_lexer": "ipython3",
   "version": "3.7.9"
  }
 },
 "nbformat": 4,
 "nbformat_minor": 4
}
